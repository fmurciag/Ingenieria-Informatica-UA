{
  "nbformat": 4,
  "nbformat_minor": 0,
  "metadata": {
    "colab": {
      "name": "Fall_Detector.ipynb",
      "provenance": [],
      "collapsed_sections": [],
      "include_colab_link": true
    },
    "kernelspec": {
      "name": "python3",
      "display_name": "Python 3"
    },
    "language_info": {
      "name": "python"
    }
  },
  "cells": [
    {
      "cell_type": "markdown",
      "metadata": {
        "id": "view-in-github",
        "colab_type": "text"
      },
      "source": [
        "<a href=\"https://colab.research.google.com/github/DanielRoblesBallester/imcr/blob/master/Detector%20de%20Caidas/Fall_Detector.ipynb\" target=\"_parent\"><img src=\"https://colab.research.google.com/assets/colab-badge.svg\" alt=\"Open In Colab\"/></a>"
      ]
    },
    {
      "cell_type": "markdown",
      "source": [
        "#Parametros Ajustables"
      ],
      "metadata": {
        "id": "AJZoDlEW1PzD"
      }
    },
    {
      "cell_type": "code",
      "execution_count": null,
      "metadata": {
        "id": "008tx4qD0Da9"
      },
      "outputs": [],
      "source": [
        "#Variables Globales para ajustar el entrenamiento de una manera localizada\n",
        "batch_size = 64 # Tamaño del lote \n",
        "epochs = 15 #Numero de iteraciones en el entrenamiento de nuestra red\n",
        "input_shape = 0\n",
        "num_classes=2\n",
        "\n",
        "img_cols, img_rows = 32, 32"
      ]
    },
    {
      "cell_type": "markdown",
      "source": [
        "#Librerias"
      ],
      "metadata": {
        "id": "zfuADBhE1LoE"
      }
    },
    {
      "cell_type": "code",
      "source": [
        "import matplotlib.pyplot as plt\n",
        "import numpy as np\n",
        "import pandas as pd\n",
        "import glob\n",
        "import tensorflow as tf\n",
        "import cv2\n",
        "import os as os\n",
        "\n",
        "import sklearn\n",
        "from sklearn.model_selection import train_test_split\n",
        "from sklearn import metrics\n",
        "from sklearn.utils import shuffle\n",
        "\n",
        "\n",
        "from tensorflow import keras\n",
        "from tensorflow.keras.preprocessing import image\n",
        "from tensorflow.keras import models\n",
        "from tensorflow.keras import layers\n",
        "from tensorflow.keras.models import Model\n",
        "from tensorflow.keras.applications.resnet50 import ResNet50\n",
        "from tensorflow.keras.applications.resnet50 import preprocess_input, decode_predictions\n",
        "import sklearn\n",
        "from sklearn.model_selection import train_test_split\n",
        "from sklearn import metrics\n",
        "from tensorflow.keras import models\n",
        "\n",
        "\n",
        "from scipy import ndimage"
      ],
      "metadata": {
        "id": "r9tQ5q7u0Hmk"
      },
      "execution_count": null,
      "outputs": []
    },
    {
      "cell_type": "markdown",
      "source": [
        "#Preparando el DataSet\n",
        "**Descargamos el conjunto de imagenes a emplear**\n",
        "\n",
        "Para ello, hemos hecho uso de [direct downloaders](https://sites.google.com/site/gdocs2direct/) para poder importar las imagenes de una manera automatica descargandolas (como si tuvieramos nuestro propio servidor de archivos). Por defecto el enlace de google drive nos da un boton de aviso diciendo que el archivo es muy grande, por lo que para bypasear ese aviso tenemos que añadir la parte de confirm=t"
      ],
      "metadata": {
        "id": "bggUKx1w06-t"
      }
    },
    {
      "cell_type": "code",
      "source": [
        "!rm -rf *\n",
        "!wget \"https://drive.google.com/uc?export=download&id=1fXk_O66UFko8VjaFb_-siGu7yEM37LNC&confirm=t\" -O dataSet.tar"
      ],
      "metadata": {
        "id": "L4WWnouZ0LQC",
        "colab": {
          "base_uri": "https://localhost:8080/"
        },
        "outputId": "7f0a499d-5ac5-4f38-dd54-0565afc4a7d5"
      },
      "execution_count": null,
      "outputs": [
        {
          "output_type": "stream",
          "name": "stdout",
          "text": [
            "--2022-06-01 23:07:00--  https://drive.google.com/uc?export=download&id=1fXk_O66UFko8VjaFb_-siGu7yEM37LNC&confirm=t\n",
            "Resolving drive.google.com (drive.google.com)... 74.125.195.100, 74.125.195.138, 74.125.195.101, ...\n",
            "Connecting to drive.google.com (drive.google.com)|74.125.195.100|:443... connected.\n",
            "HTTP request sent, awaiting response... 303 See Other\n",
            "Location: https://doc-0g-1s-docs.googleusercontent.com/docs/securesc/ha0ro937gcuc7l7deffksulhg5h7mbp1/ic1v640n0dkt6irqn24jndkgqncnpoed/1654124775000/03942168396322362906/*/1fXk_O66UFko8VjaFb_-siGu7yEM37LNC?e=download [following]\n",
            "Warning: wildcards not supported in HTTP.\n",
            "--2022-06-01 23:07:00--  https://doc-0g-1s-docs.googleusercontent.com/docs/securesc/ha0ro937gcuc7l7deffksulhg5h7mbp1/ic1v640n0dkt6irqn24jndkgqncnpoed/1654124775000/03942168396322362906/*/1fXk_O66UFko8VjaFb_-siGu7yEM37LNC?e=download\n",
            "Resolving doc-0g-1s-docs.googleusercontent.com (doc-0g-1s-docs.googleusercontent.com)... 74.125.197.132, 2607:f8b0:400e:c03::84\n",
            "Connecting to doc-0g-1s-docs.googleusercontent.com (doc-0g-1s-docs.googleusercontent.com)|74.125.197.132|:443... connected.\n",
            "HTTP request sent, awaiting response... 200 OK\n",
            "Length: 465190400 (444M) [application/x-tar]\n",
            "Saving to: ‘dataSet.tar’\n",
            "\n",
            "dataSet.tar         100%[===================>] 443.64M  92.7MB/s    in 4.9s    \n",
            "\n",
            "2022-06-01 23:07:06 (89.6 MB/s) - ‘dataSet.tar’ saved [465190400/465190400]\n",
            "\n"
          ]
        }
      ]
    },
    {
      "cell_type": "code",
      "source": [
        "!tar -xf dataSet.tar\n",
        "!rm -rf dataSet.tar"
      ],
      "metadata": {
        "id": "hA0HhFoA0M05"
      },
      "execution_count": null,
      "outputs": []
    },
    {
      "cell_type": "markdown",
      "source": [
        "#Cargando el DataSet"
      ],
      "metadata": {
        "id": "8gD-ZuIS00Jp"
      }
    },
    {
      "cell_type": "code",
      "source": [
        "def load_data():\n",
        "\n",
        "  name_classes = ['caida','pie']\n",
        "  caidas, pie= [],[]\n",
        "\n",
        "  for class_number, class_name in enumerate(name_classes):    # Number of directories\n",
        "    for filename in glob.glob(f'./{class_name}/*.png'):\n",
        "      im = image.load_img(filename, target_size=[img_rows, img_cols], color_mode = 'grayscale')\n",
        "      if class_number==0:\n",
        "        caidas.append(image.img_to_array(im))\n",
        "      else:\n",
        "        pie.append(image.img_to_array(im))\n",
        "\n",
        "  \n",
        "  input_shape = (img_rows, img_cols, 1)\n",
        "\n",
        "  caidas = np.array(caidas).astype(float) / 255 #Normalizamos la muestra de caidas\n",
        "  pie = np.array(pie).astype(float) / 255 #Normalizamos la muestra de pie\n",
        "\n",
        "  return caidas,pie, input_shape"
      ],
      "metadata": {
        "id": "SnAbVsLn0OVy"
      },
      "execution_count": null,
      "outputs": []
    },
    {
      "cell_type": "code",
      "source": [
        "caidas,pie,input_shape=load_data()"
      ],
      "metadata": {
        "id": "xiIUZd-60P3R"
      },
      "execution_count": null,
      "outputs": []
    },
    {
      "cell_type": "code",
      "source": [
        "print(\"Muestra de caidas:\", len(caidas))\n",
        "print(\"Muestra de pie:\", len(pie))"
      ],
      "metadata": {
        "id": "kbBgrSLb0RK3",
        "colab": {
          "base_uri": "https://localhost:8080/"
        },
        "outputId": "b5f583f4-bd5b-4820-db5d-f7f4957db311"
      },
      "execution_count": null,
      "outputs": [
        {
          "output_type": "stream",
          "name": "stdout",
          "text": [
            "Muestra de caidas: 493\n",
            "Muestra de pie: 810\n"
          ]
        }
      ]
    },
    {
      "cell_type": "markdown",
      "source": [
        "#Balanceado\n",
        "Cuenta el total de elementos de cada clase y balancea ambas muestras."
      ],
      "metadata": {
        "id": "g5eHTeMM0xY_"
      }
    },
    {
      "cell_type": "code",
      "source": [
        "def plotPartitions(plot):\n",
        "  eje_x=[]\n",
        "  eje_y=[]\n",
        "\n",
        "  #Caidas\n",
        "  eje_y.append(plot[0])\n",
        "  eje_x.append(\"Conjunto caidas\")\n",
        "\n",
        "  #Pie\n",
        "  eje_y.append(plot[1])\n",
        "  eje_x.append(\"Conjunto pie\")\n",
        "\n",
        "  ## Creamos Gráfica\n",
        "  plt.bar(eje_x, eje_y)\n",
        "\n",
        "  ## Leyenda en el eje y\n",
        "  plt.ylabel('Cantidad de muestras')\n",
        "\n",
        "  ## Leyenda en el eje x\n",
        "  plt.xlabel('Conjunto de datos')\n",
        "\n",
        "  ## Título de Gráfica\n",
        "  plt.title('Numero de muestras')\n",
        "\n",
        "  ## Mostramos Gráfica\n",
        "  plt.show()\n",
        "\n",
        "  print(\"Tamaño muestra caidas: \",plot[0])\n",
        "  print(\"Tamaño muestra de pie: \",plot[1])"
      ],
      "metadata": {
        "id": "4GDYk5B20S_K"
      },
      "execution_count": null,
      "outputs": []
    },
    {
      "cell_type": "code",
      "source": [
        "plot=[len(caidas),len(pie)]\n",
        "plotPartitions(plot)"
      ],
      "metadata": {
        "id": "HmS_TNyS0UZN",
        "colab": {
          "base_uri": "https://localhost:8080/",
          "height": 330
        },
        "outputId": "a4045cb0-e746-4dac-da8d-422c54883b02"
      },
      "execution_count": null,
      "outputs": [
        {
          "output_type": "display_data",
          "data": {
            "text/plain": [
              "<Figure size 432x288 with 1 Axes>"
            ],
            "image/png": "[encoded data removed]"
          },
          "metadata": {
            "needs_background": "light"
          }
        },
        {
          "output_type": "stream",
          "name": "stdout",
          "text": [
            "Tamaño muestra caidas:  493\n",
            "Tamaño muestra de pie:  810\n"
          ]
        }
      ]
    },
    {
      "cell_type": "code",
      "source": [
        "def equilibration(caidas, pie):\n",
        "  X,y=[],[]\n",
        "  pie=shuffle(pie)\n",
        "  for i in range(len(caidas)):\n",
        "    X.append(pie[i])\n",
        "    y.append(1)\n",
        "    X.append(caidas[i])\n",
        "    y.append(0)\n",
        "  X,y=shuffle(X,y)\n",
        "  return np.array(X), np.array(y)"
      ],
      "metadata": {
        "id": "dz2E9TDF0VtX"
      },
      "execution_count": null,
      "outputs": []
    },
    {
      "cell_type": "code",
      "source": [
        "X,y=equilibration(caidas, pie)\n",
        "print(\"Total muestras: \",len(X))"
      ],
      "metadata": {
        "id": "Cg554a-M0XGF",
        "colab": {
          "base_uri": "https://localhost:8080/"
        },
        "outputId": "a91db660-2c7f-49bf-82f0-4159e3a81b4b"
      },
      "execution_count": null,
      "outputs": [
        {
          "output_type": "stream",
          "name": "stdout",
          "text": [
            "Total muestras:  986\n"
          ]
        }
      ]
    },
    {
      "cell_type": "markdown",
      "source": [
        "#Definicion de modelo"
      ],
      "metadata": {
        "id": "UH7VrrnE0ufm"
      }
    },
    {
      "cell_type": "code",
      "source": [
        "def cnn_modelBasic(input_shape_aux):\n",
        "    model = models.Sequential()\n",
        "\n",
        "    model.add(layers.Conv2D(32, (5, 5), activation='relu', input_shape=input_shape_aux))\n",
        "    model.add(layers.MaxPooling2D(pool_size=(2, 2)))\n",
        "    model.add(layers.Dropout(0.5))\n",
        "\n",
        "    model.add(layers.Conv2D(64, (5, 5), activation='relu'))                                   #Conforme vamos haciendo mas pequeña la imagen vamos aumentando los filtros ya que no es tan costoso computacionalmente al no tener tantos datos\n",
        "    model.add(layers.MaxPooling2D(pool_size=(2, 2)))\n",
        "    model.add(layers.Dropout(0.5))\n",
        "\n",
        "    model.add(layers.Flatten())\n",
        "\n",
        "    model.add(layers.Dense(200, activation='sigmoid'))\n",
        "\n",
        "    model.add(layers.Dense(2, activation='softmax'))\n",
        "    \n",
        "    model.compile(optimizer='adam',\n",
        "              loss='sparse_categorical_crossentropy',\n",
        "              metrics=['accuracy'])\n",
        "\n",
        "    return model"
      ],
      "metadata": {
        "id": "SERSJM4Q0Yon"
      },
      "execution_count": null,
      "outputs": []
    },
    {
      "cell_type": "code",
      "source": [
        "model = cnn_modelBasic(input_shape)"
      ],
      "metadata": {
        "id": "mmub5XaB0aUi"
      },
      "execution_count": null,
      "outputs": []
    },
    {
      "cell_type": "code",
      "source": [
        "X_train, X_test, Y_train, Y_test = train_test_split(X, y, test_size=0.25, random_state=123)\n",
        "\n",
        "print(f'x_train {X_train.shape} x_test {X_test.shape}')"
      ],
      "metadata": {
        "id": "_WJ2chnE0buk",
        "colab": {
          "base_uri": "https://localhost:8080/"
        },
        "outputId": "9da26c33-a08e-4261-c9ff-b7d32aefd6d2"
      },
      "execution_count": null,
      "outputs": [
        {
          "output_type": "stream",
          "name": "stdout",
          "text": [
            "x_train (739, 32, 32, 1) x_test (247, 32, 32, 1)\n"
          ]
        }
      ]
    },
    {
      "cell_type": "code",
      "source": [
        "def plot_history(history):\n",
        "  hist = pd.DataFrame(history.history)\n",
        "  hist['epoch'] = history.epoch\n",
        "\n",
        "  plt.figure()\n",
        "  plt.xlabel('Epoch')\n",
        "  plt.ylabel('Accuracy')\n",
        "  plt.plot(hist['epoch'], hist['accuracy'],\n",
        "           label='Train Error')\n",
        "  plt.plot(hist['epoch'], hist['val_accuracy'],\n",
        "           label = 'Val Error')\n",
        "  plt.ylim([0,2.5]) ##change\n",
        "  plt.legend()\n",
        "\n",
        "  plt.figure()\n",
        "  plt.xlabel('Epoch')\n",
        "  plt.ylabel('loss')\n",
        "  plt.plot(hist['epoch'], hist['loss'],\n",
        "           label='Train Error')\n",
        "  plt.plot(hist['epoch'], hist['val_loss'],\n",
        "           label = 'Val Error')\n",
        "  plt.ylim([0,2.5]) ##change\n",
        "  plt.legend()\n",
        "\n",
        "  plt.show()"
      ],
      "metadata": {
        "id": "JAWJZgRc0dcj"
      },
      "execution_count": null,
      "outputs": []
    },
    {
      "cell_type": "markdown",
      "source": [
        "#Entrenamiento"
      ],
      "metadata": {
        "id": "izh2PwIr0qGw"
      }
    },
    {
      "cell_type": "code",
      "source": [
        "train_history = model.fit(X_train, Y_train, batch_size=batch_size, epochs=epochs, workers=4,validation_split=0.1, verbose=2)"
      ],
      "metadata": {
        "id": "1FSwNWXY0e3o",
        "colab": {
          "base_uri": "https://localhost:8080/"
        },
        "outputId": "29ddc6ef-cbf3-4ef4-e59c-5943cd4f7ece"
      },
      "execution_count": null,
      "outputs": [
        {
          "output_type": "stream",
          "name": "stdout",
          "text": [
            "Epoch 1/15\n",
            "11/11 - 3s - loss: 0.7278 - accuracy: 0.4767 - val_loss: 0.6951 - val_accuracy: 0.5000 - 3s/epoch - 235ms/step\n",
            "Epoch 2/15\n",
            "11/11 - 1s - loss: 0.6891 - accuracy: 0.5083 - val_loss: 0.6810 - val_accuracy: 0.5000 - 1s/epoch - 123ms/step\n",
            "Epoch 3/15\n",
            "11/11 - 1s - loss: 0.6600 - accuracy: 0.7083 - val_loss: 0.6290 - val_accuracy: 0.6486 - 1s/epoch - 116ms/step\n",
            "Epoch 4/15\n",
            "11/11 - 1s - loss: 0.5722 - accuracy: 0.7789 - val_loss: 0.4970 - val_accuracy: 0.8649 - 1s/epoch - 112ms/step\n",
            "Epoch 5/15\n",
            "11/11 - 1s - loss: 0.4046 - accuracy: 0.8812 - val_loss: 0.3423 - val_accuracy: 0.8784 - 1s/epoch - 113ms/step\n",
            "Epoch 6/15\n",
            "11/11 - 1s - loss: 0.2636 - accuracy: 0.9203 - val_loss: 0.2695 - val_accuracy: 0.8649 - 1s/epoch - 115ms/step\n",
            "Epoch 7/15\n",
            "11/11 - 1s - loss: 0.1810 - accuracy: 0.9414 - val_loss: 0.2603 - val_accuracy: 0.8649 - 1s/epoch - 114ms/step\n",
            "Epoch 8/15\n",
            "11/11 - 1s - loss: 0.1840 - accuracy: 0.9398 - val_loss: 0.2406 - val_accuracy: 0.9054 - 1s/epoch - 114ms/step\n",
            "Epoch 9/15\n",
            "11/11 - 1s - loss: 0.1945 - accuracy: 0.9323 - val_loss: 0.2296 - val_accuracy: 0.8919 - 1s/epoch - 115ms/step\n",
            "Epoch 10/15\n",
            "11/11 - 1s - loss: 0.1691 - accuracy: 0.9368 - val_loss: 0.2344 - val_accuracy: 0.9054 - 1s/epoch - 113ms/step\n",
            "Epoch 11/15\n",
            "11/11 - 1s - loss: 0.1677 - accuracy: 0.9368 - val_loss: 0.2015 - val_accuracy: 0.9054 - 1s/epoch - 113ms/step\n",
            "Epoch 12/15\n",
            "11/11 - 1s - loss: 0.1439 - accuracy: 0.9594 - val_loss: 0.1890 - val_accuracy: 0.9189 - 1s/epoch - 106ms/step\n",
            "Epoch 13/15\n",
            "11/11 - 1s - loss: 0.1298 - accuracy: 0.9564 - val_loss: 0.1490 - val_accuracy: 0.9189 - 1s/epoch - 112ms/step\n",
            "Epoch 14/15\n",
            "11/11 - 1s - loss: 0.1229 - accuracy: 0.9549 - val_loss: 0.1530 - val_accuracy: 0.9189 - 1s/epoch - 111ms/step\n",
            "Epoch 15/15\n",
            "11/11 - 1s - loss: 0.1395 - accuracy: 0.9594 - val_loss: 0.1381 - val_accuracy: 0.9189 - 1s/epoch - 110ms/step\n"
          ]
        }
      ]
    },
    {
      "cell_type": "code",
      "source": [
        "plot_history(train_history)"
      ],
      "metadata": {
        "id": "lfogwTIB0gPW",
        "colab": {
          "base_uri": "https://localhost:8080/",
          "height": 549
        },
        "outputId": "166345c0-0d77-453a-8f79-f7644e7091d9"
      },
      "execution_count": null,
      "outputs": [
        {
          "output_type": "display_data",
          "data": {
            "text/plain": [
              "<Figure size 432x288 with 1 Axes>"
            ],
            "image/png": "[encoded data removed]"
          },
          "metadata": {
            "needs_background": "light"
          }
        },
        {
          "output_type": "display_data",
          "data": {
            "text/plain": [
              "<Figure size 432x288 with 1 Axes>"
            ],
            "image/png": "[encoded data removed]"
          },
          "metadata": {
            "needs_background": "light"
          }
        }
      ]
    },
    {
      "cell_type": "markdown",
      "source": [
        "#Test de la red entrenada\n",
        "Se comprueba si se ha realizado un sobreentrenamiento"
      ],
      "metadata": {
        "id": "Q43-ca-j0iFT"
      }
    },
    {
      "cell_type": "code",
      "source": [
        "results = model.evaluate(X_test, Y_test, batch_size=128)"
      ],
      "metadata": {
        "id": "V0ruG0uT0hoG",
        "colab": {
          "base_uri": "https://localhost:8080/"
        },
        "outputId": "60fb19ea-ed9d-42f6-cf59-d7c313749e99"
      },
      "execution_count": null,
      "outputs": [
        {
          "output_type": "stream",
          "name": "stdout",
          "text": [
            "2/2 [==============================] - 0s 45ms/step - loss: 0.1057 - accuracy: 0.9636\n"
          ]
        }
      ]
    }
  ]
}